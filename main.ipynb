{
 "cells": [
  {
   "cell_type": "code",
   "execution_count": null,
   "id": "421896d2",
   "metadata": {},
   "outputs": [],
   "source": [
    "import censusdis.data as ced"
   ]
  },
  {
   "cell_type": "markdown",
   "id": "9afa9e2b",
   "metadata": {},
   "source": [
    "# Setup"
   ]
  },
  {
   "cell_type": "code",
   "execution_count": null,
   "id": "d65e30ad",
   "metadata": {},
   "outputs": [
    {
     "ename": "SyntaxError",
     "evalue": "leading zeros in decimal integer literals are not permitted; use an 0o prefix for octal integers (2692798145.py, line 6)",
     "output_type": "error",
     "traceback": [
      "  \u001b[36mCell\u001b[39m\u001b[36m \u001b[39m\u001b[32mIn[1]\u001b[39m\u001b[32m, line 6\u001b[39m\n\u001b[31m    \u001b[39m\u001b[31mtracts_near_north = [f\"{t:06}\" for t in [0801]]\u001b[39m\n                                             ^\n\u001b[31mSyntaxError\u001b[39m\u001b[31m:\u001b[39m leading zeros in decimal integer literals are not permitted; use an 0o prefix for octal integers\n"
     ]
    }
   ],
   "source": [
    "CENSUS_API_KEY = None\n",
    "YEAR = 2020\n",
    "DATASET = \"dec/dp\"\n",
    "GROUP = \"DP1\"\n",
    "\n",
    "tracts_near_north = [f\"{t:06}\" for t in [801]]\n",
    "print(tracts_near_north)"
   ]
  }
 ],
 "metadata": {
  "kernelspec": {
   "display_name": "near-north-demographics",
   "language": "python",
   "name": "near-north-demographics"
  },
  "language_info": {
   "codemirror_mode": {
    "name": "ipython",
    "version": 3
   },
   "file_extension": ".py",
   "mimetype": "text/x-python",
   "name": "python",
   "nbconvert_exporter": "python",
   "pygments_lexer": "ipython3",
   "version": "3.12.11"
  }
 },
 "nbformat": 4,
 "nbformat_minor": 5
}
