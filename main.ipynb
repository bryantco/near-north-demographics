{
 "cells": [
  {
   "cell_type": "code",
   "execution_count": 1,
   "id": "421896d2",
   "metadata": {},
   "outputs": [],
   "source": [
    "import censusdis.data as ced\n",
    "from censusdis.states import IL\n",
    "from censusdis.counties.illinois import COOK"
   ]
  },
  {
   "cell_type": "markdown",
   "id": "9afa9e2b",
   "metadata": {},
   "source": [
    "# Setup"
   ]
  },
  {
   "cell_type": "code",
   "execution_count": 11,
   "id": "d65e30ad",
   "metadata": {},
   "outputs": [
    {
     "name": "stdout",
     "output_type": "stream",
     "text": [
      "['080100']\n"
     ]
    }
   ],
   "source": [
    "CENSUS_API_KEY = None\n",
    "YEAR = 2020\n",
    "DATASET = \"dec/pl\"\n",
    "GROUP = \"P1\"\n",
    "\n",
    "tracts_near_north = ['080100']\n",
    "print(tracts_near_north)"
   ]
  },
  {
   "cell_type": "code",
   "execution_count": null,
   "id": "bcc8fd46",
   "metadata": {},
   "outputs": [],
   "source": [
    "df_near_north = ced.download(\n",
    "    dataset=DATASET,\n",
    "    vintage=YEAR,\n",
    "    leaves_of_group=GROUP,\n",
    "    state=IL,\n",
    "    county=COOK,\n",
    "    tract=tracts_near_north,\n",
    "    block='*',\n",
    "    api_key=CENSUS_API_KEY,\n",
    ")"
   ]
  }
 ],
 "metadata": {
  "kernelspec": {
   "display_name": ".venv",
   "language": "python",
   "name": "python3"
  },
  "language_info": {
   "codemirror_mode": {
    "name": "ipython",
    "version": 3
   },
   "file_extension": ".py",
   "mimetype": "text/x-python",
   "name": "python",
   "nbconvert_exporter": "python",
   "pygments_lexer": "ipython3",
   "version": "3.12.11"
  }
 },
 "nbformat": 4,
 "nbformat_minor": 5
}
